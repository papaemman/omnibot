{
 "cells": [
  {
   "cell_type": "markdown",
   "id": "b16d7229",
   "metadata": {},
   "source": [
    "# Generate Embeddings"
   ]
  },
  {
   "cell_type": "markdown",
   "id": "9ceb86ac",
   "metadata": {},
   "source": [
    "🎯 Clean text data, generate embeddings and store them in Chroma DB"
   ]
  },
  {
   "cell_type": "code",
   "execution_count": 57,
   "id": "a41ebe1a",
   "metadata": {},
   "outputs": [
    {
     "data": {
      "text/plain": [
       "'/Users/panos/Projects/my-ventures/learn-openai/.venv/bin/python'"
      ]
     },
     "execution_count": 57,
     "metadata": {},
     "output_type": "execute_result"
    }
   ],
   "source": [
    "import sys\n",
    "sys.executable"
   ]
  },
  {
   "cell_type": "code",
   "execution_count": 3,
   "id": "216079fb",
   "metadata": {},
   "outputs": [],
   "source": [
    "import os \n",
    "import re\n",
    "from tqdm import tqdm"
   ]
  },
  {
   "cell_type": "markdown",
   "id": "2f2fa89d",
   "metadata": {
    "heading_collapsed": true
   },
   "source": [
    "## Clean files"
   ]
  },
  {
   "cell_type": "code",
   "execution_count": null,
   "id": "af2317c5",
   "metadata": {
    "hidden": true
   },
   "outputs": [],
   "source": [
    "# Clean Data\n",
    "def clean_webpage_data(file_path):\n",
    "    \n",
    "    # Common words to drop\n",
    "    logo = [\"A.C. LASKARIDIS CHARITABLE FOUNDATION\", \"ΚΟΙΝΩΦΕΛΕΣ ΙΔΡΥΜΑ ΑΘΑΝΑΣΙΟΣ Κ. ΛΑΣΚΑΡΙΔΗΣ\"]\n",
    "    \n",
    "    header = [\"THE FOUNDATION\", \"ΤΟ ΙΔΡΥΜΑ\",\n",
    "              \"SEA\", \"ΘΑΛΑΣΣΑ\",\n",
    "              \"ENTREPRENEURSHIP\", \"ΕΠΙΧΕΙΡΗΜΑΤΙΚΟΤΗΤΑ\",\n",
    "              \"EDUCATION\", \"ΕΚΠΑΙΔΕΥΣΗ\",\n",
    "              \"EVENTS\", \"ΕΚΔΗΛΩΣΕΙΣ\",\n",
    "              \"COLLABORATIONS\", \"ΣΥΝΕΡΓΑΣΙΕΣ\",\n",
    "              \"OTHER PROJECTS\", \"ΑΛΛΑ ΠΡΟΓΡΑΜΜΑΤΑ\"]\n",
    "    \n",
    "    menu = [\"OUR TEAM\", \"Η ΟΜΑΔΑ ΜΑΣ\",\n",
    "            \"SUPPORTERS\", \"ΥΠΟΣΤΗΡΙΚΤΕΣ\",\n",
    "            \"NEWS\", \"ΝΕΑ\", \n",
    "            \"LATEST NEWS\", \"ΤΕΛΕΥΤΑΙΑ ΝΕΑ\"]\n",
    "    \n",
    "    footer = [\"CONTACT\", \"ΕΠΙΚΟΙΝΩΝΙΑ\",\n",
    "              \"EVENTS\", \"ΕΚΔΗΛΩΣΕΙΣ\",\n",
    "              \"AWARDS\", \"ΒΡΑΒΕΙΑ\", \"2020 aclcfWebsite by Cloudevo\"]\n",
    "    \n",
    "    for file_name in tqdm(os.listdir(file_path)):\n",
    "        if file_name.endswith(\".txt\"):\n",
    "            file = os.path.join(file_path, file_name)\n",
    "            with open(file, \"r\") as f:\n",
    "                text = f.read()\n",
    "            \n",
    "            # Drop words\n",
    "            text = drop_words(text, logo)\n",
    "            text = drop_words(text, header)\n",
    "            text = drop_words(text, menu)\n",
    "            text = drop_words(text, footer)\n",
    "            \n",
    "            # Remove extra whitespace and newlines\n",
    "            text = re.sub(r'\\s+', ' ', text).strip()\n",
    "            \n",
    "            # Drop Everything before OTHER PROJECTS\n",
    "            text = drop_before(text, \"OTHER PROJECTS\")\n",
    "            \n",
    "            # Drop Everything after latest news\n",
    "            text = drop_after(text, \"LATEST NEWS\")\n",
    "            \n",
    "            with open(file, \"w\") as f:\n",
    "                f.write(text)\n",
    "    \n",
    "    return None"
   ]
  },
  {
   "cell_type": "code",
   "execution_count": null,
   "id": "41986954",
   "metadata": {
    "hidden": true
   },
   "outputs": [],
   "source": [
    "def drop_words(text, words):\n",
    "    for word in words:\n",
    "        text = text.replace(word, \"\")\n",
    "\n",
    "    return text"
   ]
  },
  {
   "cell_type": "code",
   "execution_count": null,
   "id": "4dab83ba",
   "metadata": {
    "hidden": true
   },
   "outputs": [],
   "source": [
    "def drop_before(text, keyword):\n",
    "    index = text.find(keyword)\n",
    "    if index != -1:\n",
    "        text = text[index:]\n",
    "    \n",
    "    return text"
   ]
  },
  {
   "cell_type": "code",
   "execution_count": null,
   "id": "80b96814",
   "metadata": {
    "hidden": true
   },
   "outputs": [],
   "source": [
    "def drop_after(text, keyword):\n",
    "    index = text.find(keyword)\n",
    "    if index != -1:\n",
    "        text = text[:index]\n",
    "    \n",
    "    return text"
   ]
  },
  {
   "cell_type": "code",
   "execution_count": null,
   "id": "eb1a9419",
   "metadata": {
    "hidden": true
   },
   "outputs": [],
   "source": [
    "# Provide the path to the folder containing the text files\n",
    "folder_path = \"../data/\"\n",
    "clean_webpage_data(folder_path)"
   ]
  },
  {
   "cell_type": "markdown",
   "id": "c764cf07",
   "metadata": {},
   "source": [
    "## Generate Embeddings"
   ]
  },
  {
   "cell_type": "code",
   "execution_count": 52,
   "id": "e0ec51d6",
   "metadata": {},
   "outputs": [],
   "source": [
    "# Load all txt files from a directory\n",
    "from langchain.document_loaders import DirectoryLoader\n",
    "loader = DirectoryLoader('../data/', glob = \"./*.txt\", loader_cls=TextLoader)\n",
    "documents = loader.load()"
   ]
  },
  {
   "cell_type": "code",
   "execution_count": 53,
   "id": "58403c9e",
   "metadata": {},
   "outputs": [
    {
     "name": "stdout",
     "output_type": "stream",
     "text": [
      "There are 497 documents\n"
     ]
    }
   ],
   "source": [
    "# Splitting the text into \n",
    "from langchain.text_splitter import RecursiveCharacterTextSplitter\n",
    "text_splitter = RecursiveCharacterTextSplitter(chunk_size=500, chunk_overlap=0)\n",
    "texts = text_splitter.split_documents(documents)\n",
    "print(f'There are {len(texts)} documents')"
   ]
  },
  {
   "cell_type": "code",
   "execution_count": 54,
   "id": "a9c3fed5",
   "metadata": {},
   "outputs": [],
   "source": [
    "## LOCAL .env file\n",
    "from dotenv import dotenv_values\n",
    "secrets = dotenv_values(\"../.env\")\n",
    "OPENAI_API_KEY = secrets['OPENAI_API_KEY']\n",
    "\n",
    "## Step 2: Initialize Embeddings engine\n",
    "from langchain.embeddings.openai import OpenAIEmbeddings\n",
    "embeddings = OpenAIEmbeddings(openai_api_key=OPENAI_API_KEY)"
   ]
  },
  {
   "cell_type": "code",
   "execution_count": 55,
   "id": "4d09ddd6",
   "metadata": {},
   "outputs": [
    {
     "name": "stderr",
     "output_type": "stream",
     "text": [
      "Using embedded DuckDB with persistence: data will be stored in: ../db\n"
     ]
    }
   ],
   "source": [
    "## Step 3: Initialize and Persist ChromDB with embeddings\n",
    "from langchain.vectorstores import Chroma\n",
    "\n",
    "# Supplying a persist_directory will store the embeddings on disk\n",
    "persist_directory = '../db'\n",
    "\n",
    "vectordb = Chroma.from_documents(documents=documents,\n",
    "                                 embedding=embeddings,\n",
    "                                 persist_directory=persist_directory)\n",
    "vectordb.persist()\n",
    "vectordb = None"
   ]
  },
  {
   "cell_type": "code",
   "execution_count": null,
   "id": "d3ab225f",
   "metadata": {},
   "outputs": [],
   "source": []
  }
 ],
 "metadata": {
  "kernelspec": {
   "display_name": "openai-venv",
   "language": "python",
   "name": "openai-venv"
  },
  "language_info": {
   "codemirror_mode": {
    "name": "ipython",
    "version": 3
   },
   "file_extension": ".py",
   "mimetype": "text/x-python",
   "name": "python",
   "nbconvert_exporter": "python",
   "pygments_lexer": "ipython3",
   "version": "3.9.16"
  },
  "toc": {
   "base_numbering": 1,
   "nav_menu": {},
   "number_sections": true,
   "sideBar": true,
   "skip_h1_title": false,
   "title_cell": "Table of Contents",
   "title_sidebar": "Contents",
   "toc_cell": false,
   "toc_position": {},
   "toc_section_display": true,
   "toc_window_display": false
  }
 },
 "nbformat": 4,
 "nbformat_minor": 5
}
