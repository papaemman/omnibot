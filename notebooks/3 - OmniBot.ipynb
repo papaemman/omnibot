{
 "cells": [
  {
   "cell_type": "markdown",
   "id": "892a721c",
   "metadata": {},
   "source": [
    "# OmniBot"
   ]
  },
  {
   "cell_type": "code",
   "execution_count": null,
   "id": "3a1877e6",
   "metadata": {},
   "outputs": [],
   "source": [
    "import sys\n",
    "sys.executable"
   ]
  },
  {
   "cell_type": "markdown",
   "id": "33e8d7f9",
   "metadata": {},
   "source": [
    "## Setup"
   ]
  },
  {
   "cell_type": "code",
   "execution_count": 20,
   "id": "5876df5d",
   "metadata": {},
   "outputs": [],
   "source": [
    "## LOCAL .env file\n",
    "from dotenv import dotenv_values\n",
    "secrets = dotenv_values(\"../.env\")\n",
    "OPENAI_API_KEY = secrets['OPENAI_API_KEY']\n",
    "\n",
    "## Step 2: Initialize Embeddings engine\n",
    "from langchain.embeddings.openai import OpenAIEmbeddings\n",
    "embeddings = OpenAIEmbeddings(openai_api_key=OPENAI_API_KEY)"
   ]
  },
  {
   "cell_type": "code",
   "execution_count": 21,
   "id": "7dc60c25",
   "metadata": {},
   "outputs": [
    {
     "name": "stderr",
     "output_type": "stream",
     "text": [
      "Using embedded DuckDB with persistence: data will be stored in: ../db\n"
     ]
    }
   ],
   "source": [
    "# Load the persisted database from disk\n",
    "from langchain.vectorstores import Chroma\n",
    "persist_directory=\"../db\"\n",
    "vectordb = Chroma(persist_directory=persist_directory, \n",
    "                  embedding_function = embeddings)"
   ]
  },
  {
   "cell_type": "markdown",
   "id": "f9ef10ab",
   "metadata": {},
   "source": [
    "## Retriever"
   ]
  },
  {
   "cell_type": "code",
   "execution_count": 22,
   "id": "030f03f7",
   "metadata": {},
   "outputs": [],
   "source": [
    "# Make a Retriever\n",
    "retriever = vectordb.as_retriever(search_kwargs={\"k\":3})"
   ]
  },
  {
   "cell_type": "code",
   "execution_count": 23,
   "id": "bb114559",
   "metadata": {},
   "outputs": [
    {
     "data": {
      "text/plain": [
       "'similarity'"
      ]
     },
     "execution_count": 23,
     "metadata": {},
     "output_type": "execute_result"
    }
   ],
   "source": [
    "retriever.search_type"
   ]
  },
  {
   "cell_type": "code",
   "execution_count": 24,
   "id": "6e14c7b6",
   "metadata": {},
   "outputs": [],
   "source": [
    "docs = retriever.get_relevant_documents(\"what is this?\")"
   ]
  },
  {
   "cell_type": "code",
   "execution_count": 27,
   "id": "9604ed51",
   "metadata": {},
   "outputs": [
    {
     "data": {
      "text/plain": [
       "0"
      ]
     },
     "execution_count": 27,
     "metadata": {},
     "output_type": "execute_result"
    }
   ],
   "source": [
    "len(docs)"
   ]
  },
  {
   "cell_type": "code",
   "execution_count": 25,
   "id": "23163971",
   "metadata": {},
   "outputs": [],
   "source": [
    "docs = retriever.get_relevant_documents(\"Τι είναι το ίδρυμα Αθανάσιος Κ. Λασκαρίδης?\")"
   ]
  },
  {
   "cell_type": "code",
   "execution_count": 26,
   "id": "f00b9499",
   "metadata": {},
   "outputs": [
    {
     "data": {
      "text/plain": [
       "0"
      ]
     },
     "execution_count": 26,
     "metadata": {},
     "output_type": "execute_result"
    }
   ],
   "source": [
    "len(docs)"
   ]
  },
  {
   "cell_type": "code",
   "execution_count": 14,
   "id": "3e8fbc80",
   "metadata": {
    "scrolled": true
   },
   "outputs": [
    {
     "data": {
      "text/plain": [
       "[]"
      ]
     },
     "execution_count": 14,
     "metadata": {},
     "output_type": "execute_result"
    }
   ],
   "source": [
    "docs"
   ]
  },
  {
   "cell_type": "code",
   "execution_count": 10,
   "id": "266354ec",
   "metadata": {},
   "outputs": [],
   "source": [
    "docs = retriever.get_relevant_documents(\"Ποιες είναι οι 3 τελευταίες δράσεις του ιδρύματος?\")"
   ]
  },
  {
   "cell_type": "code",
   "execution_count": 11,
   "id": "f5aba373",
   "metadata": {},
   "outputs": [
    {
     "data": {
      "text/plain": [
       "[]"
      ]
     },
     "execution_count": 11,
     "metadata": {},
     "output_type": "execute_result"
    }
   ],
   "source": [
    "docs"
   ]
  },
  {
   "cell_type": "markdown",
   "id": "4da6903d",
   "metadata": {},
   "source": [
    "## Model"
   ]
  },
  {
   "cell_type": "code",
   "execution_count": null,
   "id": "3fbdeca3",
   "metadata": {},
   "outputs": [],
   "source": [
    "from langchain.chat_models import ChatOpenAI\n",
    "model = ChatOpenAI(model=\"gpt-3.5-turbo\",\n",
    "                   openai_api_key=OPENAI_API_KEY)"
   ]
  },
  {
   "cell_type": "code",
   "execution_count": null,
   "id": "c4ed92ae",
   "metadata": {},
   "outputs": [],
   "source": [
    "from langchain.chains import RetrievalQA\n",
    "qa = RetrievalQA.from_llm(model,\n",
    "                          retriever=retriever,\n",
    "                          return_source_documents=False\n",
    "                         )"
   ]
  },
  {
   "cell_type": "code",
   "execution_count": null,
   "id": "fbf3bf4b",
   "metadata": {},
   "outputs": [],
   "source": [
    "qa({\"query\": \"Τι είναι το ίδρυμα Αθανάσιος Κ. Λασκαρίδης?\"})"
   ]
  },
  {
   "cell_type": "code",
   "execution_count": null,
   "id": "ceeda3cc",
   "metadata": {},
   "outputs": [],
   "source": [
    "qa({\"query\": \"Ποιες είναι οι 3 τελευταίες δράσεις του ιδρύματος?\"})"
   ]
  },
  {
   "cell_type": "code",
   "execution_count": null,
   "id": "e98f79e0",
   "metadata": {},
   "outputs": [],
   "source": [
    "qa({\"query\": \"Ποια ηταν η τελευταία ερώτηση?\"})"
   ]
  },
  {
   "cell_type": "code",
   "execution_count": null,
   "id": "efdfaf91",
   "metadata": {},
   "outputs": [],
   "source": [
    "qa({\"query\": \"Ποιες ομάδες κέρδισε το τελευταιο Datathon του ιδρύματος?\"})"
   ]
  },
  {
   "cell_type": "code",
   "execution_count": null,
   "id": "f9ea8559",
   "metadata": {},
   "outputs": [],
   "source": []
  }
 ],
 "metadata": {
  "kernelspec": {
   "display_name": "openai-venv",
   "language": "python",
   "name": "openai-venv"
  },
  "language_info": {
   "codemirror_mode": {
    "name": "ipython",
    "version": 3
   },
   "file_extension": ".py",
   "mimetype": "text/x-python",
   "name": "python",
   "nbconvert_exporter": "python",
   "pygments_lexer": "ipython3",
   "version": "3.9.16"
  },
  "toc": {
   "base_numbering": 1,
   "nav_menu": {},
   "number_sections": true,
   "sideBar": true,
   "skip_h1_title": false,
   "title_cell": "Table of Contents",
   "title_sidebar": "Contents",
   "toc_cell": false,
   "toc_position": {},
   "toc_section_display": true,
   "toc_window_display": false
  }
 },
 "nbformat": 4,
 "nbformat_minor": 5
}
