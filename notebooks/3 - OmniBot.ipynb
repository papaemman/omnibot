{
 "cells": [
  {
   "attachments": {},
   "cell_type": "markdown",
   "id": "892a721c",
   "metadata": {},
   "source": [
    "# OmniBot"
   ]
  },
  {
   "cell_type": "code",
   "execution_count": 1,
   "id": "3a1877e6",
   "metadata": {},
   "outputs": [
    {
     "data": {
      "text/plain": [
       "'/Users/panos/Library/Caches/pypoetry/virtualenvs/omnibot-lHmdBll9-py3.9/bin/python'"
      ]
     },
     "execution_count": 1,
     "metadata": {},
     "output_type": "execute_result"
    }
   ],
   "source": [
    "import sys\n",
    "sys.executable"
   ]
  },
  {
   "attachments": {},
   "cell_type": "markdown",
   "id": "33e8d7f9",
   "metadata": {},
   "source": [
    "## Setup"
   ]
  },
  {
   "cell_type": "code",
   "execution_count": 2,
   "id": "5876df5d",
   "metadata": {},
   "outputs": [],
   "source": [
    "## LOCAL .env file\n",
    "from dotenv import dotenv_values\n",
    "secrets = dotenv_values(\"../.env\")\n",
    "OPENAI_API_KEY = secrets['OPENAI_API_KEY']\n",
    "\n",
    "## Step 2: Initialize Embeddings engine\n",
    "from langchain.embeddings.openai import OpenAIEmbeddings\n",
    "embeddings = OpenAIEmbeddings(openai_api_key=OPENAI_API_KEY)"
   ]
  },
  {
   "cell_type": "code",
   "execution_count": 3,
   "id": "7dc60c25",
   "metadata": {},
   "outputs": [
    {
     "name": "stderr",
     "output_type": "stream",
     "text": [
      "Using embedded DuckDB with persistence: data will be stored in: ../db\n"
     ]
    }
   ],
   "source": [
    "# Load the persisted database from disk\n",
    "from langchain.vectorstores import Chroma\n",
    "persist_directory=\"../db\"\n",
    "vectordb = Chroma(persist_directory=persist_directory, \n",
    "                  embedding_function = embeddings)"
   ]
  },
  {
   "attachments": {},
   "cell_type": "markdown",
   "id": "f9ef10ab",
   "metadata": {},
   "source": [
    "## Retriever"
   ]
  },
  {
   "cell_type": "code",
   "execution_count": 4,
   "id": "030f03f7",
   "metadata": {},
   "outputs": [],
   "source": [
    "# Make a Retriever\n",
    "retriever = vectordb.as_retriever(search_kwargs={'k':2})"
   ]
  },
  {
   "cell_type": "code",
   "execution_count": 5,
   "id": "bb114559",
   "metadata": {},
   "outputs": [
    {
     "data": {
      "text/plain": [
       "'similarity'"
      ]
     },
     "execution_count": 5,
     "metadata": {},
     "output_type": "execute_result"
    }
   ],
   "source": [
    "retriever.search_type"
   ]
  },
  {
   "cell_type": "code",
   "execution_count": 6,
   "id": "23163971",
   "metadata": {},
   "outputs": [],
   "source": [
    "docs = retriever.get_relevant_documents(\"Τι είναι το ίδρυμα Αθανάσιος Κ. Λασκαρίδης?\")"
   ]
  },
  {
   "cell_type": "code",
   "execution_count": 7,
   "id": "f00b9499",
   "metadata": {},
   "outputs": [
    {
     "data": {
      "text/plain": [
       "2"
      ]
     },
     "execution_count": 7,
     "metadata": {},
     "output_type": "execute_result"
    }
   ],
   "source": [
    "len(docs)"
   ]
  },
  {
   "cell_type": "code",
   "execution_count": 7,
   "id": "3e8fbc80",
   "metadata": {
    "scrolled": true
   },
   "outputs": [
    {
     "data": {
      "text/plain": [
       "[Document(page_content='Ίδρυμα Αθανάσιος Κ. Λασκαρίδης υποστηρίζει σε σταθερή βάση το φιλανθρωπικό σωματείο Άγιος Πολύκαρπος Σμύρνης, το οποίο περιθάλπει και υποστηρίζει παιδιά που έχουν ανάγκη από δωρεάν στέγαση, διατροφή, εκπαίδευση, διαπαιδαγώγηση και ευκαιρίες κοινωνικής αποκατάστασης. Κουλούρειο Νοσοκομείο Ύδρας Παναγία Φανερωμένη Το Κοινωφελές Ίδρυμα Αθανάσιος Κ. Λασκαρίδηςυποστηρίζει τη λειτουργία του Κουλούρειου', metadata={'source': '../data/93.txt'}),\n",
       " Document(page_content='https://www.aclcf.org/alla-programmata/politistiki-klironomia/ | ΠΟΛΙΤΙΣΤΙΚΗ ΚΛΗΡΟΝΟΜΙΑ Μέσα από ένα ευρύ φάσμα δράσεων και συνεργειών, το Κοινωφελές Ίδρυμα Αθανάσιος Κ. Λασκαρίδης αναδεικνύει τον πολιτισμό ως μία από τις προτεραιότητές του. Προστασία και ανάδειξη μνημείων και επιλεκτικές παρεμβάσεις στον δημόσιο χώρο αποτελούν τον βασικό κορμό του σχεδιασμού του Ιδρύματος για την διατήρηση της', metadata={'source': '../data/103.txt'})]"
      ]
     },
     "execution_count": 7,
     "metadata": {},
     "output_type": "execute_result"
    }
   ],
   "source": [
    "docs"
   ]
  },
  {
   "cell_type": "code",
   "execution_count": 8,
   "id": "266354ec",
   "metadata": {},
   "outputs": [],
   "source": [
    "docs = retriever.get_relevant_documents(\"Ποιες είναι οι 3 τελευταίες δράσεις του ιδρύματος?\")"
   ]
  },
  {
   "cell_type": "code",
   "execution_count": 9,
   "id": "f5aba373",
   "metadata": {},
   "outputs": [
    {
     "data": {
      "text/plain": [
       "[Document(page_content='ΤΩΝ ΜΑΘΗΤΩΝ/ΤΡΙΩΝ ΩΣ ΕΝΕΡΓΩΝ ΠΟΛΙΤΩΝ', metadata={'source': '../data/75.txt'}),\n",
       " Document(page_content='ΠΡΟΓΡΑΜΜΑ ΓΙΑ ΤΗ ΔΙΑΜΟΡΦΩΣΗ ΤΩΝ ΜΑΘΗΤΩΝ/ΤΡΙΩΝ ΩΣ ΕΝΕΡΓΩΝ ΠΟΛΙΤΩΝ', metadata={'source': '../data/97.txt'})]"
      ]
     },
     "execution_count": 9,
     "metadata": {},
     "output_type": "execute_result"
    }
   ],
   "source": [
    "docs"
   ]
  },
  {
   "attachments": {},
   "cell_type": "markdown",
   "id": "1869e610",
   "metadata": {},
   "source": [
    "## Retrieval QA"
   ]
  },
  {
   "cell_type": "code",
   "execution_count": 71,
   "id": "0f610818",
   "metadata": {},
   "outputs": [],
   "source": [
    "from langchain.prompts import PromptTemplate\n",
    "prompt_template = \"\"\"You are OmniBot, a chatbot responsible for answering questions about the Athanasios K. Laskaridis Foundation.\n",
    "\n",
    "Use the following pieces of context to answer the question at the end. If you don't know the answer, just say that you don't know, don't try to make up an answer.\n",
    "Reply with a single sentance and always finish your answer with a period.\n",
    "\n",
    "{context}\n",
    "\n",
    "Question: {question}\n",
    "\n",
    "Helpful Answer:\"\n",
    "\"\"\"\n",
    "PROMPT = PromptTemplate(\n",
    "    template=prompt_template, input_variables=[\"context\", \"question\"]\n",
    ")"
   ]
  },
  {
   "cell_type": "code",
   "execution_count": 83,
   "id": "51ccc9a3",
   "metadata": {},
   "outputs": [],
   "source": [
    "# Create the chain to answer the question\n",
    "from langchain.chains import RetrievalQA\n",
    "from langchain.llms import OpenAI\n",
    "\n",
    "chain_type_kwargs = {\"prompt\": PROMPT}\n",
    "\n",
    "qa_chain = RetrievalQA.from_chain_type(llm=OpenAI(temperature=0, max_tokens=2000),\n",
    "                                       chain_type=\"stuff\",\n",
    "                                       retriever=retriever,\n",
    "                                       return_source_documents=False,\n",
    "                                       chain_type_kwargs=chain_type_kwargs)"
   ]
  },
  {
   "cell_type": "code",
   "execution_count": 84,
   "id": "489394d1",
   "metadata": {},
   "outputs": [
    {
     "name": "stdout",
     "output_type": "stream",
     "text": [
      "You are OmniBot, a chatbot responsible for answering questions about the Athanasios K. Laskaridis Foundation.\n",
      "\n",
      "Use the following pieces of context to answer the question at the end. If you don't know the answer, just say that you don't know, don't try to make up an answer.\n",
      "Reply with a single sentance and always finish your answer with a period.\n",
      "\n",
      "{context}\n",
      "\n",
      "Question: {question}\n",
      "\n",
      "Helpful Answer:\"\n",
      "\n"
     ]
    }
   ],
   "source": [
    "print(qa_chain.combine_documents_chain.llm_chain.prompt.template)"
   ]
  },
  {
   "cell_type": "code",
   "execution_count": 80,
   "id": "befc3ac3",
   "metadata": {},
   "outputs": [
    {
     "data": {
      "text/plain": [
       "{'query': 'Hello, who are you?',\n",
       " 'result': 'I am OmniBot, a chatbot responsible for answering questions about the Athanasios K. Laskaridis Foundation.'}"
      ]
     },
     "execution_count": 80,
     "metadata": {},
     "output_type": "execute_result"
    }
   ],
   "source": [
    "# Q\n",
    "query = \"Hello, who are you?\"\n",
    "qa_chain({'query': query})"
   ]
  },
  {
   "cell_type": "code",
   "execution_count": 85,
   "id": "a49a62d7",
   "metadata": {},
   "outputs": [
    {
     "data": {
      "text/plain": [
       "{'query': 'Τι είναι το ίδρυμα Αθανάσιος Κ. Λασκαρίδης?',\n",
       " 'result': 'Το Ίδρυμα Αθανάσιος Κ. Λασκαρίδης είναι ένα κοινωφελές Ίδρυμα που υποστηρίζει την διατήρηση του πολιτισμού μέσω δράσεων και συνεργασιών, όπως την προστασία και ανάδειξη μνημείων και τις επιλεκτικές παρεμβάσεις στον δημόσιο χώρο.'}"
      ]
     },
     "execution_count": 85,
     "metadata": {},
     "output_type": "execute_result"
    }
   ],
   "source": [
    "# Q\n",
    "query = \"Τι είναι το ίδρυμα Αθανάσιος Κ. Λασκαρίδης?\"\n",
    "qa_chain({'query': query})\n"
   ]
  },
  {
   "cell_type": "code",
   "execution_count": 86,
   "id": "68334fd0",
   "metadata": {},
   "outputs": [
    {
     "data": {
      "text/plain": [
       "{'query': 'Με ποιους φορείς συνεργάζεται το ίδρυμα?',\n",
       " 'result': 'Το Κοινωφελές Ίδρυμα Αθανάσιος Κ. Λασκαρίδης συνεργάζεται με ένα ευρύ πελατολόγιο το οποίο περιλαμβάνει πολυεθνικές εταιρίες, μικρές επιχειρήσεις, οργανισμούς του ιδιωτικού και του δημοσίου τομέα, καθώς και εκπροσώπους της πολιτικής, της τέχνης και της επιστήμης. Επίσης, έχει διατελέσει επιστημονικός συνεργάτης στη Βουλή των Ελλήνων, σύμβουλος του Υπουργού Πολιτισμού, καθώς και θεματικός συνεργάτης βουλευτών και αιρετών της αυτοδιοίκησης.'}"
      ]
     },
     "execution_count": 86,
     "metadata": {},
     "output_type": "execute_result"
    }
   ],
   "source": [
    "# Q\n",
    "query = \"Με ποιους φορείς συνεργάζεται το ίδρυμα?\"\n",
    "qa_chain({'query': query})"
   ]
  },
  {
   "cell_type": "code",
   "execution_count": 89,
   "id": "8c795232",
   "metadata": {},
   "outputs": [
    {
     "data": {
      "text/plain": [
       "{'query': 'Ποιες ομάδες διακρίθηκαν στον Μαραθώνιο καινοτομίας 2022?',\n",
       " 'result': 'Οι 5 ομάδες που διακρίθηκαν είναι οι ακόλουθες: Dataphoria, E-Voting, Smart Mobility, Smart Energy και Smart Agriculture.'}"
      ]
     },
     "execution_count": 89,
     "metadata": {},
     "output_type": "execute_result"
    }
   ],
   "source": [
    "# Q\n",
    "query = \"Ποιες ομάδες διακρίθηκαν στον Μαραθώνιο καινοτομίας 2022?\"\n",
    "qa_chain({'query': query})"
   ]
  },
  {
   "cell_type": "code",
   "execution_count": null,
   "id": "b37aee7d",
   "metadata": {},
   "outputs": [],
   "source": []
  }
 ],
 "metadata": {
  "kernelspec": {
   "display_name": "omnibot-lHmdBll9-py3.9",
   "language": "python",
   "name": "python3"
  },
  "language_info": {
   "codemirror_mode": {
    "name": "ipython",
    "version": 3
   },
   "file_extension": ".py",
   "mimetype": "text/x-python",
   "name": "python",
   "nbconvert_exporter": "python",
   "pygments_lexer": "ipython3",
   "version": "3.9.16"
  },
  "toc": {
   "base_numbering": 1,
   "nav_menu": {},
   "number_sections": true,
   "sideBar": true,
   "skip_h1_title": false,
   "title_cell": "Table of Contents",
   "title_sidebar": "Contents",
   "toc_cell": false,
   "toc_position": {},
   "toc_section_display": true,
   "toc_window_display": false
  }
 },
 "nbformat": 4,
 "nbformat_minor": 5
}
