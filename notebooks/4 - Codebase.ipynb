{
 "cells": [
  {
   "cell_type": "code",
   "execution_count": null,
   "metadata": {},
   "outputs": [],
   "source": [
    "## Cite sources\n",
    "def process_llm_response(llm_response):\n",
    "    print(llm_response['result'])\n",
    "    # print('\\n\\nSources:')\n",
    "    # url = llm_response[\"result\"].split(\"|\")[0]\n",
    "    # print(url)\n",
    "\n",
    "    return None\n"
   ]
  },
  {
   "attachments": {},
   "cell_type": "markdown",
   "metadata": {},
   "source": [
    "## Retrieval QA (Chat)\n"
   ]
  },
  {
   "cell_type": "code",
   "execution_count": null,
   "metadata": {},
   "outputs": [],
   "source": [
    "from langchain.chains import RetrievalQA\n",
    "from langchain.chat_models import ChatOpenAI\n",
    "model = ChatOpenAI()\n",
    "qa = RetrievalQA.from_llm(model, retriever=retriever, return_source_documents=True)"
   ]
  },
  {
   "cell_type": "code",
   "execution_count": null,
   "metadata": {},
   "outputs": [
    {
     "data": {
      "text/plain": [
       "{'query': 'Τι είναι το ίδρυμα Αθανάσιος Κ. Λασκαρίδης?',\n",
       " 'result': 'Το Ίδρυμα Αθανάσιος Κ. Λασκαρίδης είναι ένα κοινωφελές ίδρυμα που υποστηρίζει πολλά προγράμματα, όπως το φιλανθρωπικό σωματείο Άγιος Πολύκαρπος Σμύρνης και το Κουλούρειο Νοσοκομείο Ύδρας Παναγία Φανερωμένη, ενώ αναδεικνύει επίσης τον πολιτισμό ως μία από τις προτεραιότητές του, μέσα από δράσεις και συνεργασίες για την προστασία και ανάδειξη μνημείων και επιλεκτικές παρεμβάσεις στον δημόσιο χώρο.',\n",
       " 'source_documents': [Document(page_content='Ίδρυμα Αθανάσιος Κ. Λασκαρίδης υποστηρίζει σε σταθερή βάση το φιλανθρωπικό σωματείο Άγιος Πολύκαρπος Σμύρνης, το οποίο περιθάλπει και υποστηρίζει παιδιά που έχουν ανάγκη από δωρεάν στέγαση, διατροφή, εκπαίδευση, διαπαιδαγώγηση και ευκαιρίες κοινωνικής αποκατάστασης. Κουλούρειο Νοσοκομείο Ύδρας Παναγία Φανερωμένη Το Κοινωφελές Ίδρυμα Αθανάσιος Κ. Λασκαρίδηςυποστηρίζει τη λειτουργία του Κουλούρειου', metadata={'source': '../data/93.txt'}),\n",
       "  Document(page_content='https://www.aclcf.org/alla-programmata/politistiki-klironomia/ | ΠΟΛΙΤΙΣΤΙΚΗ ΚΛΗΡΟΝΟΜΙΑ Μέσα από ένα ευρύ φάσμα δράσεων και συνεργειών, το Κοινωφελές Ίδρυμα Αθανάσιος Κ. Λασκαρίδης αναδεικνύει τον πολιτισμό ως μία από τις προτεραιότητές του. Προστασία και ανάδειξη μνημείων και επιλεκτικές παρεμβάσεις στον δημόσιο χώρο αποτελούν τον βασικό κορμό του σχεδιασμού του Ιδρύματος για την διατήρηση της', metadata={'source': '../data/103.txt'})]}"
      ]
     },
     "metadata": {},
     "output_type": "display_data"
    }
   ],
   "source": [
    "query = \"Τι είναι το ίδρυμα Αθανάσιος Κ. Λασκαρίδης?\"\n",
    "qa({'query': query})"
   ]
  },
  {
   "cell_type": "code",
   "execution_count": null,
   "metadata": {},
   "outputs": [
    {
     "data": {
      "text/plain": [
       "{'query': 'Ποια ήταν η τελευταία ερώτηση?',\n",
       " 'result': 'Δεν υπήρξε αναφορά σε ερώτηση στα παραπάνω κείμενα.',\n",
       " 'source_documents': [Document(page_content='Αρχή Χωρίς Τέλος;. Η Ημερίδα εντάσσεται σε μια σειρά εκδηλώσεων που θα υλοποιηθούν ανά την Ελλάδα, με στόχο την αναγνώριση του προβλήματος των πλαστικών μίας χρήσης και τη διερεύνηση των προκλήσεων στην εφαρμογή της νομοθεσίας για τη μείωσή τους. Τα θέματα που αναπτύχθηκαν ήταν η επιβάρυνση των πλαστικών στο περιβάλλον ο ρόλος της Πολιτείας και η δυσκολία στην εφαρμογή', metadata={'source': '../data/120.txt'}),\n",
       "  Document(page_content='Ομάδα Μας ΤΕΛΕΥΤΑΙΑ ΠΑΡΟΥΣΙΑΣΗ ΣΥΛΛΟΓΙΚΗΣ ΕΚΔΟΣΗΣ ΠΑΝΔΗΜΙΑ, ΚΑΙ ΑΝΘΡΩΠΟΣ ΣΤΗΝ ΕΛΛΑΔΑ ΕΝΕΡΓΩ ΩΣ ΠΟΛΙΤΗΣ: ΕΝΑ ΕΚΠΑΙΔΕΥΤΙΚΟ ΠΡΟΓΡΑΜΜΑ ΓΙΑ ΤΗ ΔΙΑΜΟΡΦΩΣΗ ΤΩΝ ΜΑΘΗΤΩΝ/ΤΡΙΩΝ ΩΣ ΕΝΕΡΓΩΝ ΠΟΛΙΤΩΝ', metadata={'source': '../data/18.txt'})]}"
      ]
     },
     "metadata": {},
     "output_type": "display_data"
    }
   ],
   "source": [
    "query = \"Ποια ήταν η τελευταία ερώτηση?\"\n",
    "qa({'query': query})β"
   ]
  },
  {
   "cell_type": "code",
   "execution_count": null,
   "metadata": {},
   "outputs": [
    {
     "data": {
      "text/plain": [
       "{'query': 'Ποιες ομάδες διακρίθηκαν στο Datathon?',\n",
       " 'result': 'Δεν παρέχετε αρκετός συμφραζόμενος για να απαντήσω στην ερώτησή σας. Μπορείτε να παράσχετε περισσότερες πληροφορίες ή να διευκρινίσετε την ερώτησή σας;',\n",
       " 'source_documents': [Document(page_content='καινοτομία. Από τις συνολικά 30 ομάδες που παρουσίασαν, 5 διασφάλισαν την είσοδό τους στο 5μηνο πρόγραμμα επιχειρηματικής επιτάχυνσης. Το Νοέμβριο θα πραγματοποιηθεί ο τελικός, όπου μία ομάδα θα διακριθεί́ ως νικήτρια της διοργάνωσης. Οι 5 ομάδες που διακρίθηκαν είναι οι ακόλουθες: – Dataphoria: Analytics-as-a-Service υπηρεσίες σε εταιρείες και οργανισμούς ώστε να μετρήσουν, να επιταχύνουν και', metadata={'source': '../data/80.txt'}),\n",
       "  Document(page_content='έλαβαν μέρος στον διαγωνισμό 375 διαγωνιζόμενοι, 35 ομάδες και 35 μέντορες. To “Sustainability Hackathon” ολοκληρώθηκε την Κυριακή 17 Απριλίου με την τελική παρουσίαση των προτάσεων από όλες τις ομάδες. Η αξιολόγηση βασίστηκε στην πληρότητα των λειτουργικών χαρακτηριστικών ή της ιδέας, ανάλογα με τον βαθμό ολοκλήρωσής της, στο επιχειρησιακό μοντέλο και στην τεχνολογική καινοτομία. Από τις', metadata={'source': '../data/80.txt'})]}"
      ]
     },
     "metadata": {},
     "output_type": "display_data"
    }
   ],
   "source": [
    "query = \"Ποιες ομάδες διακρίθηκαν στο Datathon?\"\n",
    "qa({'query': query})"
   ]
  },
  {
   "cell_type": "code",
   "execution_count": null,
   "metadata": {},
   "outputs": [
    {
     "data": {
      "text/plain": [
       "{'query': 'Με ποιους φορείς συνεργάζεται το ίδρυμα?',\n",
       " 'result': 'Το Κοινωφελές Ίδρυμα Αθανάσιος Κ. Λασκαρίδης συνεργάζεται με άλλους φορείς στους τομείς ενδιαφέροντός του, ειδικούς από όλους τους χώρους και μη κερδοσκοπικές οργανώσεις.',\n",
       " 'source_documents': [Document(page_content='που προασπίζονται το συλλογικό συμφέρον και ενισχύουν τη διαφάνεια. Το Κοινωφελές Ίδρυμα Αθανάσιος Κ. Λασκαρίδης σχεδιάζει και υλοποιεί δικά του προγράμματα, ενώ παράλληλα υποστηρίζει προγράμματα και δράσεις άλλων φορέων στους τομείς ενδιαφέροντός του. Πιστεύοντας στην αξία της συνεργασίας, αναλαμβάνει κοινές δράσεις με μη κερδοσκοπικές οργανώσεις, ειδικούς από όλους τους χώρους και άλλους', metadata={'source': '../data/146.txt'}),\n",
       "  Document(page_content='συνεργαστεί με ένα ευρύ πελατολόγιο το οποίο περιλαμβάνει πολυεθνικές εταιρίες, μικρές επιχειρήσεις, οργανισμούς του ιδιωτικού και του δημοσίου τομέα, καθώς και εκπροσώπους της πολιτικής, της τέχνης και της επιστήμης. Επίσης, έχει διατελέσει επιστημονικός συνεργάτης στη Βουλή των Ελλήνων, σύμβουλος του Υπουργού Πολιτισμού, καθώς και θεματικός συνεργάτης βουλευτών και αιρετών της αυτοδιοίκησης.', metadata={'source': '../data/153.txt'})]}"
      ]
     },
     "metadata": {},
     "output_type": "display_data"
    }
   ],
   "source": [
    "query = \"Με ποιους φορείς συνεργάζεται το ίδρυμα?\"\n",
    "qa({'query': query})"
   ]
  },
  {
   "cell_type": "code",
   "execution_count": null,
   "metadata": {},
   "outputs": [
    {
     "data": {
      "text/plain": [
       "{'query': 'Πιο συγκεκριμένα?',\n",
       " 'result': 'Λυπάμαι, δεν μπορώ να απαντήσω πιο συγκεκριμένα γιατί δεν έχει δοθεί αρκετός συγκεκριμένος πληροφορίες. Τα παραπάνω αποσπάσματα δεν παρέχουν αρκετό πλαίσιο για να καταλάβω τί ακριβώς εννοείτε. Μπορείτε να μου δώσετε περισσότερες πληροφορίες ή να μου θέσετε μια πιο συγκεκριμένη ερώτηση;',\n",
       " 'source_documents': [Document(page_content='Όμως υπάρχουν ακόμα πολλά κενά, στην ενημέρωση, την ευαισθητοποίηση, την εφαρμογή του νομικού πλαισίου και την αλλαγή των δικών μας συνηθειών. Βρισκόμαστε σε ένα καθοριστικό στάδιο για το περιβάλλον – στη στιγμή που πρέπει να αποφασίσουμε αν θα κερδίσουμε αυτό το στοίχημα, αλλάζοντας, ή θα κάνουμε πίσω, υποχωρώντας. Επόμενος σταθμός είναι η Αθήνα, στις 23 Μαρτίου.', metadata={'source': '../data/120.txt'}),\n",
       "  Document(page_content='σύγκρισης με τυχόν μελλοντικές πανδημίες. Περιλαμβάνει έντεκα κείμενα από εξειδικευμένους/ες επιστήμονες και ερευνητές/ερευνήτριες του χώρου. Στη συντακτική επιτροπή και στη συγγραφή του τόμου συμμετείχαν σημαντικοί φορείς, όπως το Πανεπιστήμιο Πατρών, το Οικονομικό Πανεπιστήμιο Αθηνών, το Πανεπιστήμιο Αιγαίου, το ΕΛΚΕΘΕ, η Οικολογική Εταιρεία Ανακύκλωσης, η HELMEPA, η ΕΕΠΦ, το Ίδρυμα Λαμπράκη, η', metadata={'source': '../data/127.txt'})]}"
      ]
     },
     "metadata": {},
     "output_type": "display_data"
    }
   ],
   "source": [
    "query = \"Πιο συγκεκριμένα?\"\n",
    "qa({'query': query})"
   ]
  },
  {
   "cell_type": "code",
   "execution_count": null,
   "metadata": {},
   "outputs": [
    {
     "data": {
      "text/plain": [
       "{'query': 'which teams won the last Datathon?',\n",
       " 'result': 'The context mentions two different events: \"Dataphoria\" and \"Hackathon\". The teams that were distinguished in the Dataphoria competition are mentioned, but it\\'s not clear if that\\'s the event you\\'re referring to. It\\'s not mentioned which teams won the Hackathon. Could you please clarify which event you\\'re asking about?',\n",
       " 'source_documents': [Document(page_content='The final will take place in November, where one team will be distinguished as the winner of the competition. The 5 teams that were distinguished are the following: – Dataphoria: Analytics-as-a-Service services to companies and organizations to measure, accelerate and highlight their transition towards sustainability. – Rethinkers: Application with a reward system that contributes to ecological', metadata={'source': '../data/136.txt'}),\n",
       "  Document(page_content='Hackathon” ended on Sunday, April 17, with the final presentation of proposals from all the teams. Assessment was based on the completeness of the functional features or of the concept, depending on its degree of completion, business model and technological innovation. Out of a total of 30 teams that made a presentation, 5 secured entry into the 5-month business acceleration phase. The final will', metadata={'source': '../data/136.txt'})]}"
      ]
     },
     "metadata": {},
     "output_type": "display_data"
    }
   ],
   "source": [
    "query = \"which teams won the last Datathon?\"\n",
    "qa({'query': query})"
   ]
  },
  {
   "attachments": {},
   "cell_type": "markdown",
   "metadata": {},
   "source": [
    "## Chat Over Documents with Chat History"
   ]
  },
  {
   "cell_type": "code",
   "execution_count": null,
   "metadata": {},
   "outputs": [],
   "source": [
    "from langchain.chains import LLMChain\n",
    "from langchain.chains.conversational_retrieval.prompts import CONDENSE_QUESTION_PROMPT\n",
    "from langchain.llms import OpenAI\n",
    "from langchain.chains import ConversationalRetrievalChain\n",
    "from langchain.chains.question_answering import load_qa_chain"
   ]
  },
  {
   "cell_type": "code",
   "execution_count": null,
   "metadata": {},
   "outputs": [],
   "source": [
    "\n",
    "llm = OpenAI(temperature=0)\n",
    "question_generator = LLMChain(llm=llm, prompt=CONDENSE_QUESTION_PROMPT)\n",
    "doc_chain = load_qa_chain(llm, chain_type=\"map_reduce\")\n",
    "\n",
    "chain = ConversationalRetrievalChain(\n",
    "    retriever=retriever,\n",
    "    question_generator=question_generator,\n",
    "    combine_docs_chain=doc_chain,\n",
    ")"
   ]
  },
  {
   "cell_type": "code",
   "execution_count": null,
   "metadata": {},
   "outputs": [],
   "source": []
  },
  {
   "attachments": {},
   "cell_type": "markdown",
   "metadata": {},
   "source": [
    "## ReretrievalQAwithSources"
   ]
  },
  {
   "cell_type": "code",
   "execution_count": null,
   "metadata": {},
   "outputs": [],
   "source": [
    "template = \"\"\"\n",
    "{summaries}\n",
    "{question}\n",
    "\"\"\""
   ]
  },
  {
   "cell_type": "code",
   "execution_count": null,
   "metadata": {},
   "outputs": [
    {
     "ename": "KeyboardInterrupt",
     "evalue": "",
     "output_type": "error",
     "traceback": [
      "\u001b[0;31m---------------------------------------------------------------------------\u001b[0m\n",
      "\u001b[0;31mKeyboardInterrupt\u001b[0m                         Traceback (most recent call last)\n",
      "Cell \u001b[0;32mIn[27], line 1\u001b[0m\n",
      "\u001b[0;32m----> 1\u001b[0m \u001b[39mfrom\u001b[39;00m \u001b[39mlangchain\u001b[39;00m\u001b[39m.\u001b[39;00m\u001b[39mchains\u001b[39;00m \u001b[39mimport\u001b[39;00m RetrievalQAWithSourcesChain\n",
      "\u001b[1;32m      2\u001b[0m \u001b[39mfrom\u001b[39;00m \u001b[39mlangchain\u001b[39;00m\u001b[39m.\u001b[39;00m\u001b[39mprompts\u001b[39;00m \u001b[39mimport\u001b[39;00m PromptTemplate\n",
      "\u001b[1;32m      3\u001b[0m \u001b[39mfrom\u001b[39;00m \u001b[39mlangchain\u001b[39;00m \u001b[39mimport\u001b[39;00m OpenAI\n",
      "\n",
      "Cell \u001b[0;32mIn[27], line 1\u001b[0m\n",
      "\u001b[0;32m----> 1\u001b[0m \u001b[39mfrom\u001b[39;00m \u001b[39mlangchain\u001b[39;00m\u001b[39m.\u001b[39;00m\u001b[39mchains\u001b[39;00m \u001b[39mimport\u001b[39;00m RetrievalQAWithSourcesChain\n",
      "\u001b[1;32m      2\u001b[0m \u001b[39mfrom\u001b[39;00m \u001b[39mlangchain\u001b[39;00m\u001b[39m.\u001b[39;00m\u001b[39mprompts\u001b[39;00m \u001b[39mimport\u001b[39;00m PromptTemplate\n",
      "\u001b[1;32m      3\u001b[0m \u001b[39mfrom\u001b[39;00m \u001b[39mlangchain\u001b[39;00m \u001b[39mimport\u001b[39;00m OpenAI\n",
      "\n",
      "File \u001b[0;32m~/Library/Caches/pypoetry/virtualenvs/omnibot-lHmdBll9-py3.9/lib/python3.9/site-packages/debugpy/_vendored/pydevd/_pydevd_bundle/pydevd_frame.py:988\u001b[0m, in \u001b[0;36mPyDBFrame.trace_dispatch\u001b[0;34m(self, frame, event, arg)\u001b[0m\n",
      "\u001b[1;32m    986\u001b[0m \u001b[39m# if thread has a suspend flag, we suspend with a busy wait\u001b[39;00m\n",
      "\u001b[1;32m    987\u001b[0m \u001b[39mif\u001b[39;00m info\u001b[39m.\u001b[39mpydev_state \u001b[39m==\u001b[39m STATE_SUSPEND:\n",
      "\u001b[0;32m--> 988\u001b[0m     \u001b[39mself\u001b[39;49m\u001b[39m.\u001b[39;49mdo_wait_suspend(thread, frame, event, arg)\n",
      "\u001b[1;32m    989\u001b[0m     \u001b[39mreturn\u001b[39;00m \u001b[39mself\u001b[39m\u001b[39m.\u001b[39mtrace_dispatch\n",
      "\u001b[1;32m    990\u001b[0m \u001b[39melse\u001b[39;00m:\n",
      "\n",
      "File \u001b[0;32m~/Library/Caches/pypoetry/virtualenvs/omnibot-lHmdBll9-py3.9/lib/python3.9/site-packages/debugpy/_vendored/pydevd/_pydevd_bundle/pydevd_frame.py:165\u001b[0m, in \u001b[0;36mPyDBFrame.do_wait_suspend\u001b[0;34m(self, *args, **kwargs)\u001b[0m\n",
      "\u001b[1;32m    164\u001b[0m \u001b[39mdef\u001b[39;00m \u001b[39mdo_wait_suspend\u001b[39m(\u001b[39mself\u001b[39m, \u001b[39m*\u001b[39margs, \u001b[39m*\u001b[39m\u001b[39m*\u001b[39mkwargs):\n",
      "\u001b[0;32m--> 165\u001b[0m     \u001b[39mself\u001b[39;49m\u001b[39m.\u001b[39;49m_args[\u001b[39m0\u001b[39;49m]\u001b[39m.\u001b[39;49mdo_wait_suspend(\u001b[39m*\u001b[39;49margs, \u001b[39m*\u001b[39;49m\u001b[39m*\u001b[39;49mkwargs)\n",
      "\n",
      "File \u001b[0;32m~/Library/Caches/pypoetry/virtualenvs/omnibot-lHmdBll9-py3.9/lib/python3.9/site-packages/debugpy/_vendored/pydevd/pydevd.py:2070\u001b[0m, in \u001b[0;36mPyDB.do_wait_suspend\u001b[0;34m(self, thread, frame, event, arg, exception_type)\u001b[0m\n",
      "\u001b[1;32m   2067\u001b[0m             from_this_thread\u001b[39m.\u001b[39mappend(frame_custom_thread_id)\n",
      "\u001b[1;32m   2069\u001b[0m     \u001b[39mwith\u001b[39;00m \u001b[39mself\u001b[39m\u001b[39m.\u001b[39m_threads_suspended_single_notification\u001b[39m.\u001b[39mnotify_thread_suspended(thread_id, thread, stop_reason):\n",
      "\u001b[0;32m-> 2070\u001b[0m         keep_suspended \u001b[39m=\u001b[39m \u001b[39mself\u001b[39;49m\u001b[39m.\u001b[39;49m_do_wait_suspend(thread, frame, event, arg, suspend_type, from_this_thread, frames_tracker)\n",
      "\u001b[1;32m   2072\u001b[0m frames_list \u001b[39m=\u001b[39m \u001b[39mNone\u001b[39;00m\n",
      "\u001b[1;32m   2074\u001b[0m \u001b[39mif\u001b[39;00m keep_suspended:\n",
      "\u001b[1;32m   2075\u001b[0m     \u001b[39m# This means that we should pause again after a set next statement.\u001b[39;00m\n",
      "\n",
      "File \u001b[0;32m~/Library/Caches/pypoetry/virtualenvs/omnibot-lHmdBll9-py3.9/lib/python3.9/site-packages/debugpy/_vendored/pydevd/pydevd.py:2106\u001b[0m, in \u001b[0;36mPyDB._do_wait_suspend\u001b[0;34m(self, thread, frame, event, arg, suspend_type, from_this_thread, frames_tracker)\u001b[0m\n",
      "\u001b[1;32m   2103\u001b[0m         \u001b[39mself\u001b[39m\u001b[39m.\u001b[39m_call_input_hook()\n",
      "\u001b[1;32m   2105\u001b[0m     \u001b[39mself\u001b[39m\u001b[39m.\u001b[39mprocess_internal_commands()\n",
      "\u001b[0;32m-> 2106\u001b[0m     time\u001b[39m.\u001b[39;49msleep(\u001b[39m0.01\u001b[39;49m)\n",
      "\u001b[1;32m   2108\u001b[0m \u001b[39mself\u001b[39m\u001b[39m.\u001b[39mcancel_async_evaluation(get_current_thread_id(thread), \u001b[39mstr\u001b[39m(\u001b[39mid\u001b[39m(frame)))\n",
      "\u001b[1;32m   2110\u001b[0m \u001b[39m# process any stepping instructions\u001b[39;00m\n",
      "\n",
      "\u001b[0;31mKeyboardInterrupt\u001b[0m: "
     ]
    }
   ],
   "source": [
    "from langchain.chains import RetrievalQAWithSourcesChain\n",
    "from langchain.prompts import PromptTemplate\n",
    "from langchain import OpenAI\n",
    "llm = OpenAI(temperature=0,  openai_api_key=OPENAI_API_KEY)\n",
    "       \n",
    "chain = RetrievalQAWithSourcesChain.from_chain_type(llm=llm,\n",
    "                                                    chain_type=\"stuff\",\n",
    "                                                    retriever=retriever,\n",
    "                                                    chain_type_kwargs={\n",
    "                                                        \"prompt\": PromptTemplate(\n",
    "                                                            template=template,\n",
    "                                                            input_variables=[\"summaries\", \"question\"]\n",
    "                                                        ),\n",
    "                                                    })"
   ]
  },
  {
   "cell_type": "code",
   "execution_count": null,
   "metadata": {},
   "outputs": [],
   "source": [
    "## LLM\n",
    "\n",
    "# from langchain.chat_models import ChatOpenAI\n",
    "# model = ChatOpenAI(model_name=\"gpt-3.5-turbo\",\n",
    "#                    openai_api_key=OPENAI_API_KEY,\n",
    "#                    temperature=0, \n",
    "#                    max_tokens=500)"
   ]
  },
  {
   "attachments": {},
   "cell_type": "markdown",
   "metadata": {},
   "source": [
    "### Question Answering"
   ]
  },
  {
   "cell_type": "code",
   "execution_count": null,
   "metadata": {},
   "outputs": [],
   "source": [
    "query = \"Ποιες ομάδες κέρδισαν το τελευταιο Datathon του ιδρύματος Λασκαριδη?\"\n",
    "qa.run(query)"
   ]
  },
  {
   "cell_type": "code",
   "execution_count": null,
   "metadata": {},
   "outputs": [],
   "source": [
    "qa({\"query\": \"Ποιες ομάδες κέρδισαν το τελευταιο Datathon του ιδρύματος Λασκαριδη?\"})"
   ]
  },
  {
   "cell_type": "code",
   "execution_count": null,
   "metadata": {},
   "outputs": [],
   "source": [
    "qa({\"query\": \"Ποιες είναι οι 3 τελευταίες δράσεις του ιδρύματος?\"})"
   ]
  },
  {
   "cell_type": "code",
   "execution_count": null,
   "metadata": {},
   "outputs": [],
   "source": [
    "qa({\"query\": \"Ποια ηταν η τελευταία ερώτηση?\"})"
   ]
  },
  {
   "cell_type": "code",
   "execution_count": null,
   "metadata": {},
   "outputs": [],
   "source": [
    "qa({\"query\": \"Ποιες ομάδες κέρδισαν το τελευταιο Datathon του ιδρύματος Λασκαριδη?\"})"
   ]
  }
 ],
 "metadata": {
  "language_info": {
   "name": "python"
  },
  "orig_nbformat": 4
 },
 "nbformat": 4,
 "nbformat_minor": 2
}
